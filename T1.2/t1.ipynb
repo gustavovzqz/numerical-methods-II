{
 "cells": [
  {
   "cell_type": "markdown",
   "metadata": {},
   "source": [
    "## Detecção de Bordas\n",
    "O objetivo dessa tarefa é implementar dois algoritmos. Depois que os algoritmos forem executados, as bordas serão representadas por pixels pretos enquanto os outros serão brancos. "
   ]
  },
  {
   "cell_type": "code",
   "execution_count": 17,
   "metadata": {},
   "outputs": [],
   "source": [
    "# Importando as dependências para trabalhar com imagens\n",
    "import numpy as np\n",
    "from PIL import Image"
   ]
  },
  {
   "cell_type": "markdown",
   "metadata": {},
   "source": [
    "### Filtros\n",
    "Para aplicar o filtro, precisamos de uma função de aplicação. No nosso caso, podemos imaginar nossos filtros como matrizes 3x3. Abaixo, segue os exemplos dos filtros necessários.\n",
    "$$\\text{1. Filtro Gaussiano:}\\quad\\frac{1}{16}\\begin{bmatrix}\n",
    "1 & 2 & 1 \\\\\n",
    "2 & 4 & 2 \\\\\n",
    "1 & 2 & 1 \\\\\n",
    "\\end{bmatrix}$$\n",
    "$$\\text{2. Filtro de Sobel em $x$:}\\quad\\begin{bmatrix}\n",
    "-1 & 0 & 1 \\\\\n",
    "-2 & 0 & 2 \\\\\n",
    "-1 & 0 & 1 \\\\\n",
    "\\end{bmatrix}$$\n",
    "$$\\text{3. Filtro de Sobel em $y$:}\\quad\\begin{bmatrix}\n",
    "-1 & -2 & -1 \\\\\n",
    "0 & 0 & 0 \\\\\n",
    "1 & 2 & 1 \\\\\n",
    "\\end{bmatrix}$$\n",
    "$$\\text{4. Filtro Laplaciano:}\\quad\\begin{bmatrix}\n",
    "0 & 1 & 0 \\\\\n",
    "1 & -4 & 1 \\\\\n",
    "0 & 1 & 0 \\\\\n",
    "\\end{bmatrix}$$"
   ]
  },
  {
   "cell_type": "code",
   "execution_count": 18,
   "metadata": {},
   "outputs": [],
   "source": [
    "gaussian = (1.0/16.0) * np.array([\n",
    "    [1.0, 2.0, 1.0],\n",
    "    [2.0, 4.0, 2.0],\n",
    "    [1.0, 2.0, 1.0]\n",
    "])\n",
    "\n",
    "sobel_x = np.array([\n",
    "    [-1, 0, 1],\n",
    "    [-2, 0, 2],\n",
    "    [-1, 0, 1]\n",
    "])\n",
    "\n",
    "sobel_y = np.array([\n",
    "    [-1, -2, -1],\n",
    "    [0, 0, 0],\n",
    "    [1, 2, 1]\n",
    "])\n",
    "\n",
    "laplacian = np.array([\n",
    "    [0, 1, 0],\n",
    "    [1, -4, 1],\n",
    "    [0, 1, 0]\n",
    "])"
   ]
  },
  {
   "cell_type": "markdown",
   "metadata": {},
   "source": [
    "### Aplicando os Filtros\n",
    "Para aplicar os filtros, precisamos definir uma função que percorre a imagem, aplicando o filtro como uma máscara, para cada pixel, atribuindo o valor adquirido pós aplicação a uma nova matriz. A matriz resultante será a imagem final."
   ]
  },
  {
   "cell_type": "code",
   "execution_count": 20,
   "metadata": {},
   "outputs": [],
   "source": [
    "def apply_filter(image, filter):\n",
    "  width = image.shape[0]\n",
    "  height = image.shape[1]\n",
    "  # Cria uma imagem nova, mas com uma borda \"expandida\" com zeros, para não dar problema.\n",
    "  image_pad = np.pad(image, 1, mode = 'constant', constant_values = 0) \n",
    "  output = np.zeros(image.shape)\n",
    "  for i in range(width):\n",
    "    for j in range(height):\n",
    "      mask = np.array([\n",
    "        [image_pad[i-1][j-1], image_pad[i-1][j], image_pad[i-1][j+1]],\n",
    "        [image_pad[i][j-1], image_pad[i][j], image_pad[i][j+1]],\n",
    "        [image_pad[i+1][j-1], image_pad[i+1][j], image_pad[i+1][j+1]]\n",
    "        ])\n",
    "      output[i][j] = np.dot(filter[0], mask[0]) + np.dot(filter[1], mask[1]) + np.dot(filter[2], mask[2])\n",
    "      \n",
    "  return output"
   ]
  },
  {
   "cell_type": "markdown",
   "metadata": {},
   "source": [
    "### Desenvolvendo os Algoritmos\n",
    "Agora, temos todas as ferramentas prontas para aplicar os algoritmos de fato.\n",
    "\n",
    "Para simplificação, Pi significa: *matriz do passo i*."
   ]
  },
  {
   "cell_type": "code",
   "execution_count": 14,
   "metadata": {},
   "outputs": [],
   "source": [
    "# Carregando as imagens\n",
    "image_path = 'input/teste.webp'\n",
    "input_img = np.array(Image.open(image_path).convert('L')) / 255\n",
    "\n",
    "# O primeiro passo, para os dois algoritmos, é aplicar o filtro gaussiano:\n",
    "P1 = apply_filter(input_img, gaussian)"
   ]
  },
  {
   "cell_type": "markdown",
   "metadata": {},
   "source": [
    "#### Algoritmo 1"
   ]
  },
  {
   "cell_type": "code",
   "execution_count": 15,
   "metadata": {},
   "outputs": [],
   "source": [
    "threshold = 0.5\n",
    "A = apply_filter(P1, sobel_x)\n",
    "B = apply_filter(P1, sobel_y)\n",
    "C = np.sqrt(np.power(A, 2) + np.power(B, 2))\n",
    "D = np.where(C < threshold, 0, 1)\n",
    "output_img = Image.fromarray((D * 255).astype(np.uint8), mode='L')\n",
    "output_img.save('output/alg1.png')"
   ]
  },
  {
   "cell_type": "markdown",
   "metadata": {},
   "source": [
    "#### Algoritmo 2"
   ]
  },
  {
   "cell_type": "code",
   "execution_count": 21,
   "metadata": {},
   "outputs": [],
   "source": [
    "tolerance = 0.04\n",
    "A = apply_filter(P1, laplacian)\n",
    "B = np.where(A <= tolerance, 0, 1)\n",
    "output_img = Image.fromarray((B * 255).astype(np.uint8), mode='L')\n",
    "output_img.save('output/alg2.png')"
   ]
  }
 ],
 "metadata": {
  "kernelspec": {
   "display_name": "Python 3",
   "language": "python",
   "name": "python3"
  },
  "language_info": {
   "codemirror_mode": {
    "name": "ipython",
    "version": 3
   },
   "file_extension": ".py",
   "mimetype": "text/x-python",
   "name": "python",
   "nbconvert_exporter": "python",
   "pygments_lexer": "ipython3",
   "version": "3.10.12"
  }
 },
 "nbformat": 4,
 "nbformat_minor": 2
}
