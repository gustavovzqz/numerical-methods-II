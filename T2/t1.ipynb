{
 "cells": [
  {
   "cell_type": "markdown",
   "metadata": {},
   "source": [
    "## Detecção de Bordas\n",
    "O objetivo dessa tarefa é implementar dois algoritmos. Depois que os algoritmos forem executados, as bordas serão representadas por pixels pretos enquanto os outros serão brancos. "
   ]
  },
  {
   "cell_type": "code",
   "execution_count": 8,
   "metadata": {},
   "outputs": [],
   "source": [
    "# Importando as dependências para trabalhar com imagens\n",
    "import numpy as np\n",
    "from PIL import Image"
   ]
  },
  {
   "cell_type": "markdown",
   "metadata": {},
   "source": [
    "### Filtros\n",
    "Para aplicar o filtro, precisamos de uma função de aplicação. No nosso caso, podemos imaginar nossos filtros como matrizes 3x3. Abaixo, segue os exemplos dos filtros necessários.\n",
    "$$\\text{1. Filtro Gaussiano:}\\quad\\frac{1}{16}\\begin{bmatrix}\n",
    "1 & 2 & 1 \\\\\n",
    "2 & 4 & 2 \\\\\n",
    "1 & 2 & 1 \\\\\n",
    "\\end{bmatrix}$$\n",
    "$$\\text{2. Filtro de Sobel em $x$:}\\quad\\begin{bmatrix}\n",
    "-1 & 0 & 1 \\\\\n",
    "-2 & 0 & 2 \\\\\n",
    "-1 & 0 & 1 \\\\\n",
    "\\end{bmatrix}$$\n",
    "$$\\text{3. Filtro de Sobel em $y$:}\\quad\\begin{bmatrix}\n",
    "-1 & -2 & -1 \\\\\n",
    "0 & 0 & 0 \\\\\n",
    "1 & 2 & 1 \\\\\n",
    "\\end{bmatrix}$$\n",
    "$$\\text{4. Filtro Laplaciano:}\\quad\\begin{bmatrix}\n",
    "0 & 1 & 0 \\\\\n",
    "1 & -4 & 1 \\\\\n",
    "0 & 1 & 0 \\\\\n",
    "\\end{bmatrix}$$"
   ]
  },
  {
   "cell_type": "code",
   "execution_count": 5,
   "metadata": {},
   "outputs": [],
   "source": [
    "gaussian = (1.0/16.0) * np.array([\n",
    "    [1.0, 2.0, 1.0],\n",
    "    [2.0, 4.0, 2.0],\n",
    "    [1.0, 2.0, 1.0]\n",
    "])\n",
    "\n",
    "sobel_x = np.array([\n",
    "    [-1, 0, 1],\n",
    "    [-2, 0, 2],\n",
    "    [-1, 0, 1]\n",
    "])\n",
    "\n",
    "sobel_y = np.array([\n",
    "    [-1, -2, -1],\n",
    "    [0, 0, 0],\n",
    "    [1, 2, 1]\n",
    "])\n",
    "\n",
    "laplacian = np.array([\n",
    "    [0, 1, 0],\n",
    "    [1, -4, 1],\n",
    "    [0, 1, 0]\n",
    "])"
   ]
  },
  {
   "cell_type": "markdown",
   "metadata": {},
   "source": [
    "### Aplicando os Filtros\n",
    "Para aplicar os filtros, precisamos definir uma função que percorre a imagem, aplicando o filtro como uma máscara, para cada pixel, atribuindo o valor adquirido pós aplicação a uma nova matriz. A matriz resultante será a imagem final."
   ]
  },
  {
   "cell_type": "code",
   "execution_count": 6,
   "metadata": {},
   "outputs": [],
   "source": [
    "def apply_filter(image, filter):\n",
    "  width = image.shape[0]\n",
    "  height = image.shape[1]\n",
    "  # Cria uma imagem nova, mas com uma borda \"expandida\" com zeros, para não dar problema.\n",
    "  image_pad = np.pad(image, 1, mode = 'constant', constant_values = 0) \n",
    "  output = np.zeros(image.shape)\n",
    "  for i in range(width):\n",
    "    for j in range(height):\n",
    "      mask = np.array([\n",
    "        [image_pad[i-1][j-1], image_pad[i-1][j], image_pad[i-1][j+1]],\n",
    "        [image_pad[i][j-1], image_pad[i][j], image_pad[i][j+1]],\n",
    "        [image_pad[i+1][j-1], image_pad[i+1][j], image_pad[i+1][j+1]]\n",
    "        ])\n",
    "      output[i][j] = np.dot(filter[0], mask[0]) + np.dot(filter[1], mask[1]) + np.dot(filter[2], mask[2])\n",
    "      \n",
    "  return output"
   ]
  },
  {
   "cell_type": "markdown",
   "metadata": {},
   "source": [
    "### Desenvolvendo os Algoritmos\n",
    "Agora, temos todas as ferramentas prontas para aplicar os algoritmos de fato.\n",
    "\n",
    "Para simplificação, Pi significa: *matriz do passo i*."
   ]
  },
  {
   "cell_type": "code",
   "execution_count": 7,
   "metadata": {},
   "outputs": [
    {
     "ename": "FileNotFoundError",
     "evalue": "[Errno 2] No such file or directory: 'teste.jpg'",
     "output_type": "error",
     "traceback": [
      "\u001b[0;31m---------------------------------------------------------------------------\u001b[0m",
      "\u001b[0;31mFileNotFoundError\u001b[0m                         Traceback (most recent call last)",
      "Cell \u001b[0;32mIn[7], line 3\u001b[0m\n\u001b[1;32m      1\u001b[0m \u001b[38;5;66;03m# Carregando as imagens\u001b[39;00m\n\u001b[1;32m      2\u001b[0m image_path \u001b[38;5;241m=\u001b[39m \u001b[38;5;124m'\u001b[39m\u001b[38;5;124mteste.jpg\u001b[39m\u001b[38;5;124m'\u001b[39m\n\u001b[0;32m----> 3\u001b[0m input_img \u001b[38;5;241m=\u001b[39m np\u001b[38;5;241m.\u001b[39marray(\u001b[43mImage\u001b[49m\u001b[38;5;241;43m.\u001b[39;49m\u001b[43mopen\u001b[49m\u001b[43m(\u001b[49m\u001b[43mimage_path\u001b[49m\u001b[43m)\u001b[49m\u001b[38;5;241m.\u001b[39mconvert(\u001b[38;5;124m'\u001b[39m\u001b[38;5;124mL\u001b[39m\u001b[38;5;124m'\u001b[39m)) \u001b[38;5;241m/\u001b[39m \u001b[38;5;241m255\u001b[39m\n\u001b[1;32m      5\u001b[0m \u001b[38;5;66;03m# O primeiro passo, para os dois algoritmos, é aplicar o filtro gaussiano:\u001b[39;00m\n\u001b[1;32m      6\u001b[0m P1 \u001b[38;5;241m=\u001b[39m apply_filter(input_img, gaussian)\n",
      "File \u001b[0;32m~/.local/lib/python3.10/site-packages/PIL/Image.py:3247\u001b[0m, in \u001b[0;36mopen\u001b[0;34m(fp, mode, formats)\u001b[0m\n\u001b[1;32m   3244\u001b[0m     filename \u001b[38;5;241m=\u001b[39m fp\n\u001b[1;32m   3246\u001b[0m \u001b[38;5;28;01mif\u001b[39;00m filename:\n\u001b[0;32m-> 3247\u001b[0m     fp \u001b[38;5;241m=\u001b[39m \u001b[43mbuiltins\u001b[49m\u001b[38;5;241;43m.\u001b[39;49m\u001b[43mopen\u001b[49m\u001b[43m(\u001b[49m\u001b[43mfilename\u001b[49m\u001b[43m,\u001b[49m\u001b[43m \u001b[49m\u001b[38;5;124;43m\"\u001b[39;49m\u001b[38;5;124;43mrb\u001b[39;49m\u001b[38;5;124;43m\"\u001b[39;49m\u001b[43m)\u001b[49m\n\u001b[1;32m   3248\u001b[0m     exclusive_fp \u001b[38;5;241m=\u001b[39m \u001b[38;5;28;01mTrue\u001b[39;00m\n\u001b[1;32m   3250\u001b[0m \u001b[38;5;28;01mtry\u001b[39;00m:\n",
      "\u001b[0;31mFileNotFoundError\u001b[0m: [Errno 2] No such file or directory: 'teste.jpg'"
     ]
    }
   ],
   "source": [
    "# Carregando as imagens\n",
    "image_path = 'teste.jpg'\n",
    "input_img = np.array(Image.open(image_path).convert('L')) / 255\n",
    "\n",
    "# O primeiro passo, para os dois algoritmos, é aplicar o filtro gaussiano:\n",
    "P1 = apply_filter(input_img, gaussian)"
   ]
  },
  {
   "cell_type": "markdown",
   "metadata": {},
   "source": [
    "#### Algoritmo 1"
   ]
  },
  {
   "cell_type": "code",
   "execution_count": null,
   "metadata": {},
   "outputs": [],
   "source": [
    "A = apply_filter(P1, sobel_x)\n",
    "B = apply_filter(P1, sobel_y)\n",
    "C = np.sqrt(np.power(A, 2) + np.power(B, 2))\n"
   ]
  }
 ],
 "metadata": {
  "kernelspec": {
   "display_name": "Python 3",
   "language": "python",
   "name": "python3"
  },
  "language_info": {
   "codemirror_mode": {
    "name": "ipython",
    "version": 3
   },
   "file_extension": ".py",
   "mimetype": "text/x-python",
   "name": "python",
   "nbconvert_exporter": "python",
   "pygments_lexer": "ipython3",
   "version": "3.10.12"
  }
 },
 "nbformat": 4,
 "nbformat_minor": 2
}
